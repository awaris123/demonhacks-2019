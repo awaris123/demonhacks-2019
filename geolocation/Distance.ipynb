{
 "cells": [
  {
   "cell_type": "markdown",
   "metadata": {},
   "source": [
    "### Eucledian Distance\n",
    "\n",
    "Here is the notebook used as a scratch paper for finding out best possible way to get eucledian distance between two locations given the pharmacies have a closing time."
   ]
  },
  {
   "cell_type": "code",
   "execution_count": 11,
   "metadata": {},
   "outputs": [],
   "source": [
    "import pandas as pd\n",
    "from locate import convert_to_long_lat"
   ]
  },
  {
   "cell_type": "code",
   "execution_count": 3,
   "metadata": {},
   "outputs": [],
   "source": [
    "pk_df = pd.read_csv(\"../data/primary_care_loc.csv\")"
   ]
  },
  {
   "cell_type": "code",
   "execution_count": 4,
   "metadata": {},
   "outputs": [
    {
     "data": {
      "text/html": [
       "<div>\n",
       "<style scoped>\n",
       "    .dataframe tbody tr th:only-of-type {\n",
       "        vertical-align: middle;\n",
       "    }\n",
       "\n",
       "    .dataframe tbody tr th {\n",
       "        vertical-align: top;\n",
       "    }\n",
       "\n",
       "    .dataframe thead th {\n",
       "        text-align: right;\n",
       "    }\n",
       "</style>\n",
       "<table border=\"1\" class=\"dataframe\">\n",
       "  <thead>\n",
       "    <tr style=\"text-align: right;\">\n",
       "      <th></th>\n",
       "      <th>Unnamed: 0</th>\n",
       "      <th>Facility</th>\n",
       "      <th>Community Area (#)</th>\n",
       "      <th>Phone</th>\n",
       "      <th>FQHC, Look-alike, or Neither; Special Notes</th>\n",
       "      <th>Boundaries - ZIP Codes</th>\n",
       "      <th>Community Areas</th>\n",
       "      <th>Zip Codes</th>\n",
       "      <th>Census Tracts</th>\n",
       "      <th>Wards</th>\n",
       "      <th>:@computed_region_awaf_s7ux</th>\n",
       "      <th>address</th>\n",
       "      <th>latitude</th>\n",
       "      <th>longtitude</th>\n",
       "    </tr>\n",
       "  </thead>\n",
       "  <tbody>\n",
       "    <tr>\n",
       "      <th>0</th>\n",
       "      <td>0</td>\n",
       "      <td>PrimeCare Northwest</td>\n",
       "      <td>HUMBOLDT PARK (23)</td>\n",
       "      <td>(773) 278-6868</td>\n",
       "      <td>FQHC</td>\n",
       "      <td>1.0</td>\n",
       "      <td>24.0</td>\n",
       "      <td>22615</td>\n",
       "      <td>391.0</td>\n",
       "      <td>49.0</td>\n",
       "      <td>27.0</td>\n",
       "      <td>1649 N. Pulaski60639\\n</td>\n",
       "      <td>41.911401</td>\n",
       "      <td>-87.726354</td>\n",
       "    </tr>\n",
       "    <tr>\n",
       "      <th>1</th>\n",
       "      <td>1</td>\n",
       "      <td>ACCESS at St. Francis Health Center</td>\n",
       "      <td>ROGERS PARK (1)</td>\n",
       "      <td>(866) 882-2237</td>\n",
       "      <td>FQHC</td>\n",
       "      <td>9.0</td>\n",
       "      <td>10.0</td>\n",
       "      <td>21853</td>\n",
       "      <td>489.0</td>\n",
       "      <td>5.0</td>\n",
       "      <td>3.0</td>\n",
       "      <td>7464 N. Clark60626\\n</td>\n",
       "      <td>42.017604</td>\n",
       "      <td>-87.675592</td>\n",
       "    </tr>\n",
       "    <tr>\n",
       "      <th>2</th>\n",
       "      <td>2</td>\n",
       "      <td>Alivio Medical Center - John Spry Community Sc...</td>\n",
       "      <td>SOUTH LAWNDALE (30)</td>\n",
       "      <td>(773) 254-1400</td>\n",
       "      <td>FQHC; School-based health center (open to comm...</td>\n",
       "      <td>57.0</td>\n",
       "      <td>32.0</td>\n",
       "      <td>21569</td>\n",
       "      <td>262.0</td>\n",
       "      <td>1.0</td>\n",
       "      <td>29.0</td>\n",
       "      <td>2400 S Marshall Blvd60623\\n</td>\n",
       "      <td>41.848283</td>\n",
       "      <td>-87.699041</td>\n",
       "    </tr>\n",
       "    <tr>\n",
       "      <th>3</th>\n",
       "      <td>3</td>\n",
       "      <td>Erie Family Health Center - Division St.</td>\n",
       "      <td>WEST TOWN (24)</td>\n",
       "      <td>(312) 666-3494</td>\n",
       "      <td>FQHC</td>\n",
       "      <td>4.0</td>\n",
       "      <td>25.0</td>\n",
       "      <td>21560</td>\n",
       "      <td>302.0</td>\n",
       "      <td>49.0</td>\n",
       "      <td>10.0</td>\n",
       "      <td>2418 W. Division60622\\n</td>\n",
       "      <td>41.903030</td>\n",
       "      <td>-87.687826</td>\n",
       "    </tr>\n",
       "    <tr>\n",
       "      <th>4</th>\n",
       "      <td>4</td>\n",
       "      <td>Near North - Komed Holman Health Center</td>\n",
       "      <td>OAKLAND (36)</td>\n",
       "      <td>(773) 268-7600</td>\n",
       "      <td>FQHC</td>\n",
       "      <td>36.0</td>\n",
       "      <td>2.0</td>\n",
       "      <td>4301</td>\n",
       "      <td>220.0</td>\n",
       "      <td>10.0</td>\n",
       "      <td>1.0</td>\n",
       "      <td>4259 S. Berkeley60653\\n</td>\n",
       "      <td>41.817370</td>\n",
       "      <td>-87.600576</td>\n",
       "    </tr>\n",
       "  </tbody>\n",
       "</table>\n",
       "</div>"
      ],
      "text/plain": [
       "   Unnamed: 0                                           Facility  \\\n",
       "0           0                                PrimeCare Northwest   \n",
       "1           1                ACCESS at St. Francis Health Center   \n",
       "2           2  Alivio Medical Center - John Spry Community Sc...   \n",
       "3           3           Erie Family Health Center - Division St.   \n",
       "4           4            Near North - Komed Holman Health Center   \n",
       "\n",
       "    Community Area (#)           Phone  \\\n",
       "0   HUMBOLDT PARK (23)  (773) 278-6868   \n",
       "1      ROGERS PARK (1)  (866) 882-2237   \n",
       "2  SOUTH LAWNDALE (30)  (773) 254-1400   \n",
       "3      WEST TOWN (24)   (312) 666-3494   \n",
       "4         OAKLAND (36)  (773) 268-7600   \n",
       "\n",
       "         FQHC, Look-alike, or Neither; Special Notes  Boundaries - ZIP Codes  \\\n",
       "0                                               FQHC                     1.0   \n",
       "1                                               FQHC                     9.0   \n",
       "2  FQHC; School-based health center (open to comm...                    57.0   \n",
       "3                                               FQHC                     4.0   \n",
       "4                                               FQHC                    36.0   \n",
       "\n",
       "   Community Areas  Zip Codes  Census Tracts  Wards  \\\n",
       "0             24.0      22615          391.0   49.0   \n",
       "1             10.0      21853          489.0    5.0   \n",
       "2             32.0      21569          262.0    1.0   \n",
       "3             25.0      21560          302.0   49.0   \n",
       "4              2.0       4301          220.0   10.0   \n",
       "\n",
       "   :@computed_region_awaf_s7ux                      address   latitude  \\\n",
       "0                         27.0       1649 N. Pulaski60639\\n  41.911401   \n",
       "1                          3.0         7464 N. Clark60626\\n  42.017604   \n",
       "2                         29.0  2400 S Marshall Blvd60623\\n  41.848283   \n",
       "3                         10.0      2418 W. Division60622\\n  41.903030   \n",
       "4                          1.0      4259 S. Berkeley60653\\n  41.817370   \n",
       "\n",
       "   longtitude  \n",
       "0  -87.726354  \n",
       "1  -87.675592  \n",
       "2  -87.699041  \n",
       "3  -87.687826  \n",
       "4  -87.600576  "
      ]
     },
     "execution_count": 4,
     "metadata": {},
     "output_type": "execute_result"
    }
   ],
   "source": [
    "pk_df.head()"
   ]
  },
  {
   "cell_type": "code",
   "execution_count": 9,
   "metadata": {},
   "outputs": [
    {
     "name": "stdout",
     "output_type": "stream",
     "text": [
      "2    2400 S Marshall Blvd60623\\n\n",
      "3        2418 W. Division60622\\n\n",
      "4        4259 S. Berkeley60653\\n\n",
      "5       621 S. Winchester60612\\n\n",
      "6        4909 W. Division60651\\n\n",
      "7         5647 W. Addison60634\\n\n",
      "8         200 E. 115th St60628\\n\n",
      "9      5350 S Prairie Ave60615\\n\n",
      "Name: address, dtype: object\n"
     ]
    }
   ],
   "source": [
    "print(pk_df[\"address\"][2:10])"
   ]
  },
  {
   "cell_type": "code",
   "execution_count": 50,
   "metadata": {},
   "outputs": [
    {
     "data": {
      "text/plain": [
       "(46.6248885, 16.3165187)"
      ]
     },
     "execution_count": 50,
     "metadata": {},
     "output_type": "execute_result"
    }
   ],
   "source": [
    "test_address = \"210 W North Ave Chicago IL\"\n",
    "convert_to_long_lat(\"132\")\n",
    "# test_latlong = convert_to_long_lat(test_address)\n",
    "# test_latlong"
   ]
  },
  {
   "cell_type": "code",
   "execution_count": 46,
   "metadata": {},
   "outputs": [
    {
     "data": {
      "text/plain": [
       "47"
      ]
     },
     "execution_count": 46,
     "metadata": {},
     "output_type": "execute_result"
    }
   ],
   "source": [
    "pk_df[[\"latitude\", \"longtitude\"]].sub(test_latlong).pow(2).sum(1).pow(0.5).idxmin()"
   ]
  },
  {
   "cell_type": "code",
   "execution_count": 48,
   "metadata": {},
   "outputs": [
    {
     "data": {
      "text/plain": [
       "Unnamed: 0                                                                             47\n",
       "Facility                                       Near North - Denny Community Health Center\n",
       "Community Area (#)                                                    NEAR NORTH SIDE (8)\n",
       "Phone                                                                      (312) 926-3964\n",
       "FQHC, Look-alike, or Neither; Special Notes                                          FQHC\n",
       "Boundaries - ZIP Codes                                                                 54\n",
       "Community Areas                                                                        37\n",
       "Zip Codes                                                                           14926\n",
       "Census Tracts                                                                          17\n",
       "Wards                                                                                  11\n",
       ":@computed_region_awaf_s7ux                                                            22\n",
       "address                                                              30 W. Chicago60610\\n\n",
       "latitude                                                                          41.9052\n",
       "longtitude                                                                       -87.6322\n",
       "Name: 47, dtype: object"
      ]
     },
     "execution_count": 48,
     "metadata": {},
     "output_type": "execute_result"
    }
   ],
   "source": [
    "pk_df.iloc[47]"
   ]
  },
  {
   "cell_type": "code",
   "execution_count": 33,
   "metadata": {
    "scrolled": false
   },
   "outputs": [
    {
     "data": {
      "text/plain": [
       "latitude      41\n",
       "longtitude    52\n",
       "dtype: int64"
      ]
     },
     "execution_count": 33,
     "metadata": {},
     "output_type": "execute_result"
    }
   ],
   "source": [
    "pk_df[[\"latitude\", \"longtitude\"]].idxmax()"
   ]
  },
  {
   "cell_type": "code",
   "execution_count": 44,
   "metadata": {},
   "outputs": [
    {
     "data": {
      "text/plain": [
       "Unnamed: 0                                     120\n",
       "Facility                                       120\n",
       "Community Area (#)                             120\n",
       "Phone                                          120\n",
       "FQHC, Look-alike, or Neither; Special Notes    120\n",
       "Boundaries - ZIP Codes                         119\n",
       "Community Areas                                119\n",
       "Zip Codes                                      120\n",
       "Census Tracts                                  119\n",
       "Wards                                          119\n",
       ":@computed_region_awaf_s7ux                    119\n",
       "address                                        120\n",
       "latitude                                       120\n",
       "longtitude                                     120\n",
       "dtype: int64"
      ]
     },
     "execution_count": 44,
     "metadata": {},
     "output_type": "execute_result"
    }
   ],
   "source": [
    "pk_df.count()"
   ]
  },
  {
   "cell_type": "markdown",
   "metadata": {},
   "source": [
    "### Second Dataset - Flu Shot Locations"
   ]
  },
  {
   "cell_type": "code",
   "execution_count": 43,
   "metadata": {},
   "outputs": [
    {
     "data": {
      "text/html": [
       "<div>\n",
       "<style scoped>\n",
       "    .dataframe tbody tr th:only-of-type {\n",
       "        vertical-align: middle;\n",
       "    }\n",
       "\n",
       "    .dataframe tbody tr th {\n",
       "        vertical-align: top;\n",
       "    }\n",
       "\n",
       "    .dataframe thead th {\n",
       "        text-align: right;\n",
       "    }\n",
       "</style>\n",
       "<table border=\"1\" class=\"dataframe\">\n",
       "  <thead>\n",
       "    <tr style=\"text-align: right;\">\n",
       "      <th></th>\n",
       "      <th>Unnamed: 0</th>\n",
       "      <th>Season</th>\n",
       "      <th>Facility ID</th>\n",
       "      <th>Latitude</th>\n",
       "      <th>Longitude</th>\n",
       "      <th>Street1</th>\n",
       "      <th>Street2</th>\n",
       "      <th>City</th>\n",
       "      <th>State</th>\n",
       "      <th>Postal Code</th>\n",
       "      <th>...</th>\n",
       "      <th>Eligibility</th>\n",
       "      <th>Cost</th>\n",
       "      <th>Notes</th>\n",
       "      <th>Record ID</th>\n",
       "      <th>Location</th>\n",
       "      <th>Boundaries - ZIP Codes</th>\n",
       "      <th>Community Areas</th>\n",
       "      <th>Zip Codes</th>\n",
       "      <th>Census Tracts</th>\n",
       "      <th>Wards</th>\n",
       "    </tr>\n",
       "  </thead>\n",
       "  <tbody>\n",
       "    <tr>\n",
       "      <th>0</th>\n",
       "      <td>0</td>\n",
       "      <td>2019-2020</td>\n",
       "      <td>171</td>\n",
       "      <td>41.8967</td>\n",
       "      <td>-87.6241</td>\n",
       "      <td>757 N MICHIGAN AVE</td>\n",
       "      <td>NaN</td>\n",
       "      <td>Chicago</td>\n",
       "      <td>IL</td>\n",
       "      <td>60611</td>\n",
       "      <td>...</td>\n",
       "      <td>NaN</td>\n",
       "      <td>Call for details.</td>\n",
       "      <td>NaN</td>\n",
       "      <td>2019-2020_171</td>\n",
       "      <td>(41.8967, -87.6241)</td>\n",
       "      <td>6.0</td>\n",
       "      <td>37.0</td>\n",
       "      <td>21182</td>\n",
       "      <td>158.0</td>\n",
       "      <td>11.0</td>\n",
       "    </tr>\n",
       "    <tr>\n",
       "      <th>1</th>\n",
       "      <td>1</td>\n",
       "      <td>2019-2020</td>\n",
       "      <td>231</td>\n",
       "      <td>41.8803</td>\n",
       "      <td>-87.6467</td>\n",
       "      <td>111 S HALSTED ST</td>\n",
       "      <td>NaN</td>\n",
       "      <td>Chicago</td>\n",
       "      <td>IL</td>\n",
       "      <td>60661</td>\n",
       "      <td>...</td>\n",
       "      <td>NaN</td>\n",
       "      <td>Call for details.</td>\n",
       "      <td>NaN</td>\n",
       "      <td>2019-2020_231</td>\n",
       "      <td>(41.8803, -87.6467)</td>\n",
       "      <td>45.0</td>\n",
       "      <td>29.0</td>\n",
       "      <td>4452</td>\n",
       "      <td>786.0</td>\n",
       "      <td>46.0</td>\n",
       "    </tr>\n",
       "    <tr>\n",
       "      <th>2</th>\n",
       "      <td>2</td>\n",
       "      <td>2019-2020</td>\n",
       "      <td>108</td>\n",
       "      <td>41.7069</td>\n",
       "      <td>-87.6428</td>\n",
       "      <td>745 WEST 103 ROAD STREET</td>\n",
       "      <td>NaN</td>\n",
       "      <td>Chicago</td>\n",
       "      <td>IL</td>\n",
       "      <td>60628</td>\n",
       "      <td>...</td>\n",
       "      <td>NaN</td>\n",
       "      <td>Call for details. Minimum Age Requirement for ...</td>\n",
       "      <td>NaN</td>\n",
       "      <td>2019-2020_108</td>\n",
       "      <td>(41.7069, -87.6428)</td>\n",
       "      <td>19.0</td>\n",
       "      <td>45.0</td>\n",
       "      <td>21861</td>\n",
       "      <td>525.0</td>\n",
       "      <td>22.0</td>\n",
       "    </tr>\n",
       "    <tr>\n",
       "      <th>3</th>\n",
       "      <td>3</td>\n",
       "      <td>2019-2020</td>\n",
       "      <td>29</td>\n",
       "      <td>41.9192</td>\n",
       "      <td>-87.7313</td>\n",
       "      <td>2121 N. Keeler Ave.</td>\n",
       "      <td>NaN</td>\n",
       "      <td>Chicago</td>\n",
       "      <td>IL</td>\n",
       "      <td>60639</td>\n",
       "      <td>...</td>\n",
       "      <td>NaN</td>\n",
       "      <td>No cost to individual. If insured, insurance w...</td>\n",
       "      <td>NaN</td>\n",
       "      <td>2019-2020_29</td>\n",
       "      <td>(41.9192, -87.7313)</td>\n",
       "      <td>2.0</td>\n",
       "      <td>21.0</td>\n",
       "      <td>22615</td>\n",
       "      <td>76.0</td>\n",
       "      <td>12.0</td>\n",
       "    </tr>\n",
       "    <tr>\n",
       "      <th>4</th>\n",
       "      <td>4</td>\n",
       "      <td>2019-2020</td>\n",
       "      <td>161</td>\n",
       "      <td>41.9938</td>\n",
       "      <td>-87.6608</td>\n",
       "      <td>6150 N BROADWAY ST</td>\n",
       "      <td>NaN</td>\n",
       "      <td>Chicago</td>\n",
       "      <td>IL</td>\n",
       "      <td>60660</td>\n",
       "      <td>...</td>\n",
       "      <td>NaN</td>\n",
       "      <td>Call for details. Minimum Age Requirement for ...</td>\n",
       "      <td>NaN</td>\n",
       "      <td>2019-2020_161</td>\n",
       "      <td>(41.9938, -87.6608)</td>\n",
       "      <td>14.0</td>\n",
       "      <td>76.0</td>\n",
       "      <td>4451</td>\n",
       "      <td>536.0</td>\n",
       "      <td>16.0</td>\n",
       "    </tr>\n",
       "  </tbody>\n",
       "</table>\n",
       "<p>5 rows × 33 columns</p>\n",
       "</div>"
      ],
      "text/plain": [
       "   Unnamed: 0     Season  Facility ID  Latitude  Longitude  \\\n",
       "0           0  2019-2020          171   41.8967   -87.6241   \n",
       "1           1  2019-2020          231   41.8803   -87.6467   \n",
       "2           2  2019-2020          108   41.7069   -87.6428   \n",
       "3           3  2019-2020           29   41.9192   -87.7313   \n",
       "4           4  2019-2020          161   41.9938   -87.6608   \n",
       "\n",
       "                    Street1 Street2     City State  Postal Code  ...   \\\n",
       "0        757 N MICHIGAN AVE     NaN  Chicago    IL        60611  ...    \n",
       "1          111 S HALSTED ST     NaN  Chicago    IL        60661  ...    \n",
       "2  745 WEST 103 ROAD STREET     NaN  Chicago    IL        60628  ...    \n",
       "3       2121 N. Keeler Ave.     NaN  Chicago    IL        60639  ...    \n",
       "4        6150 N BROADWAY ST     NaN  Chicago    IL        60660  ...    \n",
       "\n",
       "  Eligibility                                               Cost Notes  \\\n",
       "0         NaN                                  Call for details.   NaN   \n",
       "1         NaN                                  Call for details.   NaN   \n",
       "2         NaN  Call for details. Minimum Age Requirement for ...   NaN   \n",
       "3         NaN  No cost to individual. If insured, insurance w...   NaN   \n",
       "4         NaN  Call for details. Minimum Age Requirement for ...   NaN   \n",
       "\n",
       "       Record ID             Location Boundaries - ZIP Codes Community Areas  \\\n",
       "0  2019-2020_171  (41.8967, -87.6241)                    6.0            37.0   \n",
       "1  2019-2020_231  (41.8803, -87.6467)                   45.0            29.0   \n",
       "2  2019-2020_108  (41.7069, -87.6428)                   19.0            45.0   \n",
       "3   2019-2020_29  (41.9192, -87.7313)                    2.0            21.0   \n",
       "4  2019-2020_161  (41.9938, -87.6608)                   14.0            76.0   \n",
       "\n",
       "  Zip Codes Census Tracts Wards  \n",
       "0     21182         158.0  11.0  \n",
       "1      4452         786.0  46.0  \n",
       "2     21861         525.0  22.0  \n",
       "3     22615          76.0  12.0  \n",
       "4      4451         536.0  16.0  \n",
       "\n",
       "[5 rows x 33 columns]"
      ]
     },
     "execution_count": 43,
     "metadata": {},
     "output_type": "execute_result"
    }
   ],
   "source": [
    "flu_df = pd.read_csv(\"../data/flushot_locs_19-20.csv\")\n",
    "flu_df.head()"
   ]
  }
 ],
 "metadata": {
  "kernelspec": {
   "display_name": "Python 3",
   "language": "python",
   "name": "python3"
  },
  "language_info": {
   "codemirror_mode": {
    "name": "ipython",
    "version": 3
   },
   "file_extension": ".py",
   "mimetype": "text/x-python",
   "name": "python",
   "nbconvert_exporter": "python",
   "pygments_lexer": "ipython3",
   "version": "3.6.5"
  }
 },
 "nbformat": 4,
 "nbformat_minor": 2
}
