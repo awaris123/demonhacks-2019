{
 "cells": [
  {
   "cell_type": "code",
   "execution_count": 2,
   "metadata": {},
   "outputs": [],
   "source": [
    "import numpy as np\n",
    "import re\n",
    "import sklearn as sk\n",
    "import pickle"
   ]
  },
  {
   "cell_type": "code",
   "execution_count": 3,
   "metadata": {},
   "outputs": [],
   "source": [
    "def edits1(word):\n",
    "    \"All edits that are one edit away from `word`.\"\n",
    "    letters    = 'abcdefghijklmnopqrstuvwxyz'\n",
    "    splits     = [(word[:i], word[i:])    for i in range(len(word) + 1)]\n",
    "    deletes    = [L + R[1:]               for L, R in splits if R]\n",
    "    transposes = [L + R[1] + R[0] + R[2:] for L, R in splits if len(R)>1]\n",
    "    replaces   = [L + c + R[1:]           for L, R in splits if R for c in letters]\n",
    "    inserts    = [L + c + R               for L, R in splits for c in letters]\n",
    "    return set(deletes + transposes + replaces + inserts)\n",
    "def edits2(word): \n",
    "    \"All edits that are two edits away from `word`.\"\n",
    "    return (e2 for e1 in edits1(word) for e2 in edits1(e1))"
   ]
  },
  {
   "cell_type": "code",
   "execution_count": 18,
   "metadata": {},
   "outputs": [],
   "source": [
    "flu_only = {\"sneezing\", \"nasal\", \"congestion\", \"flu\", \"shot\", \"influenza\", \"fluenza\"}\n",
    "\n",
    "\n",
    "flu_general = {\"fever\", \"headache\", \"cough\", \"fatigue\", \"throat\",\n",
    "               \"sore\", \"mucus\", \"vaccine\", \"cold\", \"migraine\"}\n",
    "\n",
    "\n",
    "general = {\"stool\", \"cramps\", \"abdominal\", \"pain\", \"blood\", \"nausea\", \"diarrhea\",\n",
    "           \"bloating\", \"injury\", \"accident\", \"stress\", \"surgery\", \"depression\", \"bleeding\", \"medicine\", \"hospital\"}"
   ]
  },
  {
   "cell_type": "code",
   "execution_count": 13,
   "metadata": {},
   "outputs": [],
   "source": [
    "flu_only_list = [set().union(edits1(i)) for i in flu_only]\n",
    "flu_only_set =  set().union(*flu_only_list)\n",
    "# flu_only_set\n",
    "pickle.dump(flu_only_set, open(\"../data/fluonlywords.pkl\", \"wb\"))"
   ]
  },
  {
   "cell_type": "code",
   "execution_count": 19,
   "metadata": {},
   "outputs": [],
   "source": [
    "flu_general_list = [set().union(edits1(i)) for i in flu_general]\n",
    "flu_general_set =  set().union(*flu_general_list)\n",
    "# flu_general_set\n",
    "pickle.dump(flu_general_set, open(\"../data/flugeneralwords.pkl\", \"wb\"))"
   ]
  },
  {
   "cell_type": "code",
   "execution_count": 20,
   "metadata": {},
   "outputs": [],
   "source": [
    "general_list = [set().union(edits1(i)) for i in general]\n",
    "general_set =  set().union(*general_list)\n",
    "# general_set\n",
    "pickle.dump(general_set, open(\"../data/generalwords.pkl\", \"wb\"))"
   ]
  },
  {
   "cell_type": "code",
   "execution_count": null,
   "metadata": {},
   "outputs": [],
   "source": []
  }
 ],
 "metadata": {
  "kernelspec": {
   "display_name": "Python 3",
   "language": "python",
   "name": "python3"
  },
  "language_info": {
   "codemirror_mode": {
    "name": "ipython",
    "version": 3
   },
   "file_extension": ".py",
   "mimetype": "text/x-python",
   "name": "python",
   "nbconvert_exporter": "python",
   "pygments_lexer": "ipython3",
   "version": "3.6.5"
  }
 },
 "nbformat": 4,
 "nbformat_minor": 2
}
